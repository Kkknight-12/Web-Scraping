{
 "cells": [
  {
   "cell_type": "code",
   "execution_count": 1,
   "metadata": {},
   "outputs": [],
   "source": [
    "from selenium import webdriver\n",
    "\n",
    "driver = webdriver.Chrome(executable_path=\"./chromedriver\")\n",
    "driver.get(\"https://duckduckgo.com\")\n"
   ]
  },
  {
   "cell_type": "markdown",
   "metadata": {},
   "source": [
    "### ALternative we can use shutil which will take care of path"
   ]
  },
  {
   "cell_type": "code",
   "execution_count": null,
   "metadata": {},
   "outputs": [],
   "source": [
    "from selenium import webdriver\n",
    "from shutil import which\n",
    "\n",
    "chrome_path  = which('chromedriver')\n",
    "driver = webdriver.Chrome(executable_path=chrome_path)\n",
    "driver.get(\"https://duckduckgo.com\")\n",
    "\n",
    "search_input = driver.find_element_by_id('search_form_input_homepage')\n",
    "search_input.send_keys(\"My User Agent\")\n",
    "\n",
    "search_btn = driver.find_element_by_id(\"search_button_homepage\")\n",
    "search_btn.click()\n",
    "\n",
    "ALternatively we can press Enter\n",
    "\n",
    "from selenium import webdriver\n",
    "from selenium.webdriver.common.keys import Keys\n",
    "from shutil import which\n",
    "\n",
    "chrome_path  = which('chromedriver')\n",
    "driver = webdriver.Chrome(executable_path=chrome_path)\n",
    "driver.get(\"https://duckduckgo.com\")\n",
    "\n",
    "search_input = driver.find_element_by_id('search_form_input_homepage')\n",
    "#search_input = driver.find_element_by_xpath(\"(//input[contains(@class, 'js-search-input')])[1]\")\n",
    "search_input.send_keys(\"My User Agent\")\n",
    "\n",
    "search_input.send_keys(Keys.ENTER)"
   ]
  },
  {
   "cell_type": "markdown",
   "metadata": {},
   "source": [
    "## headless search "
   ]
  },
  {
   "cell_type": "code",
   "execution_count": null,
   "metadata": {},
   "outputs": [],
   "source": [
    "from selenium import webdriver\n",
    "from selenium.webdriver.common.keys import Keys\n",
    "from selenium.webdriver.chrome.options import Options\n",
    "from shutil import which\n",
    "\n",
    "chrome_options = Options()\n",
    "chrome_options.add_argument(\"--headless\")\n",
    "\n",
    "chrome_path  = which('chromedriver')\n",
    "driver = webdriver.Chrome(executable_path=chrome_path, options= chrome_options)\n",
    "driver.get(\"https://duckduckgo.com\")\n",
    "\n",
    "search_input = driver.find_element_by_id('search_form_input_homepage')\n",
    "search_input.send_keys(\"My User Agent\")\n",
    "\n",
    "search_input.send_keys(Keys.ENTER)\n",
    "\n",
    "print(driver.page_source)\n",
    "\n",
    "driver.close()"
   ]
  }
 ],
 "metadata": {
  "kernelspec": {
   "display_name": "Python 3",
   "language": "python",
   "name": "python3"
  },
  "language_info": {
   "codemirror_mode": {
    "name": "ipython",
    "version": 3
   },
   "file_extension": ".py",
   "mimetype": "text/x-python",
   "name": "python",
   "nbconvert_exporter": "python",
   "pygments_lexer": "ipython3",
   "version": "3.6.10"
  }
 },
 "nbformat": 4,
 "nbformat_minor": 4
}
